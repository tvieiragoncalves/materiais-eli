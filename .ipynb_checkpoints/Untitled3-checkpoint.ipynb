{
 "cells": [
  {
   "cell_type": "markdown",
   "metadata": {},
   "source": [
    " \n",
    "# Repositório de materiais da ELI- Castelo de Paiva\n",
    "![SNIPI](http://www.arsalgarve.min-saude.pt/wp-content/uploads/2012/11/images_stories_noticias_ARSAlgarve_snipi_logo.jpg \"SNIPI\")"
   ]
  },
  {
   "cell_type": "markdown",
   "metadata": {},
   "source": [
    "Para adicionarem materiais, acedam a este [link](https://drive.google.com/drive/folders/1cGuNbbl_BTrc3PjQ4gl7HTdCm1kDskKA?usp=sharing)\n",
    "\n",
    "P.s Tentem dar títulos descritivos aos materiais para serem mais fáceis de encontrar.\n",
    "\n",
    "# Estes são alguns dos materiais que já temos disponíveis"
   ]
  },
  {
   "cell_type": "code",
   "execution_count": 6,
   "metadata": {
    "scrolled": true
   },
   "outputs": [
    {
     "data": {
      "text/html": [
       "<iframe src=\"https://drive.google.com/embeddedfolderview?id=1tMZlWnAJ4Y1i26S5KciRr06I2ZDZKoLd#list\" width=\"600\" height=\"500\" frameborder=\"0\"></iframe>"
      ],
      "text/plain": [
       "<IPython.core.display.HTML object>"
      ]
     },
     "execution_count": 6,
     "metadata": {},
     "output_type": "execute_result"
    }
   ],
   "source": [
    "from IPython.core.display import HTML\n",
    "HTML('<iframe src=\"https://drive.google.com/embeddedfolderview?id=1tMZlWnAJ4Y1i26S5KciRr06I2ZDZKoLd#list\" width=\"600\" height=\"500\" frameborder=\"0\"></iframe>')"
   ]
  },
  {
   "cell_type": "markdown",
   "metadata": {},
   "source": [
    "# Outros recursos\n",
    "- [Report Cards - Para gestão do comportamento](https://www.interventioncentral.org/teacher-resources/behavior-rating-scales-report-card-maker)"
   ]
  },
  {
   "cell_type": "markdown",
   "metadata": {},
   "source": [
    "# Jogos online\n",
    "- [Jogo de reconhecimento de padrões, estimulação cognitiva](https://scratch.mit.edu/projects/69198808/)"
   ]
  },
  {
   "cell_type": "markdown",
   "metadata": {},
   "source": [
    "# Artigos\n",
    "- [Treino de competências sociais](http://www.cs.cmu.edu/~smrobert/indep_summer/cam.pdf)"
   ]
  },
  {
   "cell_type": "code",
   "execution_count": null,
   "metadata": {},
   "outputs": [],
   "source": []
  }
 ],
 "metadata": {
  "kernelspec": {
   "display_name": "Python 3",
   "language": "python",
   "name": "python3"
  },
  "language_info": {
   "codemirror_mode": {
    "name": "ipython",
    "version": 3
   },
   "file_extension": ".py",
   "mimetype": "text/x-python",
   "name": "python",
   "nbconvert_exporter": "python",
   "pygments_lexer": "ipython3",
   "version": "3.7.3"
  }
 },
 "nbformat": 4,
 "nbformat_minor": 2
}
