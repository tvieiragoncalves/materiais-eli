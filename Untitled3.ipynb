{
 "cells": [
  {
   "cell_type": "markdown",
   "metadata": {},
   "source": [
    " \n",
    "# Repositório de materiais da ELI- Castelo de Paiva"
   ]
  },
  {
   "cell_type": "markdown",
   "metadata": {},
   "source": [
    "Para adicionarem materiais, acedam a este [link](https://drive.google.com/drive/folders/1cGuNbbl_BTrc3PjQ4gl7HTdCm1kDskKA?usp=sharing)\n",
    "\n",
    "P.s Tentem dar títulos descritivos aos materiais para serem mais fáceis de encontrar.\n",
    "\n",
    "# Estes são alguns dos materiais que já temos disponíveis"
   ]
  },
  {
   "cell_type": "code",
   "execution_count": 7,
   "metadata": {},
   "outputs": [
    {
     "data": {
      "text/html": [
       "<iframe src=\"https://drive.google.com/embeddedfolderview?id=1tMZlWnAJ4Y1i26S5KciRr06I2ZDZKoLd#list\" width=\"600\" height=\"500\" frameborder=\"0\"></iframe>"
      ],
      "text/plain": [
       "<IPython.core.display.HTML object>"
      ]
     },
     "execution_count": 7,
     "metadata": {},
     "output_type": "execute_result"
    }
   ],
   "source": [
    "from IPython.core.display import HTML\n",
    "HTML('<iframe src=\"https://drive.google.com/embeddedfolderview?id=1tMZlWnAJ4Y1i26S5KciRr06I2ZDZKoLd#list\" width=\"600\" height=\"500\" frameborder=\"0\"></iframe>')"
   ]
  }
 ],
 "metadata": {
  "kernelspec": {
   "display_name": "Python 3",
   "language": "python",
   "name": "python3"
  }
 },
 "nbformat": 4,
 "nbformat_minor": 2
}
